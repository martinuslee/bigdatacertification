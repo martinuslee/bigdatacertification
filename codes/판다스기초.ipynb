{
 "cells": [
  {
   "cell_type": "markdown",
   "metadata": {},
   "source": [
    "# Pandas\n",
    "\n",
    "- 행과 열로 이루어진 대용량 데이터를 쉽게 처리하도록 지원하는 파이썬 라이브러리\n",
    "- Series & Dataframe 객체는 다양한 자료형의 데이터를 담을 수 있으며, 손쉽게 데이터의 결합과 분리가 가능하다.\n",
    "- 데이터분석에서 변수가 1개일 경우는 시리즈, 변수가 2개 이상일 경우 데이터프레임을 사용한다. "
   ]
  },
  {
   "cell_type": "code",
   "execution_count": 5,
   "metadata": {},
   "outputs": [
    {
     "name": "stdout",
     "output_type": "stream",
     "text": [
      "[10 20 30 40 50 60]\n",
      "RangeIndex(start=0, stop=6, step=1)\n",
      "0    10\n",
      "1    20\n",
      "2    30\n",
      "3    40\n",
      "4    50\n",
      "5    60\n",
      "dtype: int64\n"
     ]
    }
   ],
   "source": [
    "import pandas as pd\n",
    "\n",
    "sr1 = pd.Series([10,20,30,40,50,60]) # list를 Series 객체로 생성\n",
    "print(sr1.values)\n",
    "print(sr1.index)\n",
    "print(sr1)"
   ]
  },
  {
   "cell_type": "code",
   "execution_count": 12,
   "metadata": {},
   "outputs": [
    {
     "name": "stdout",
     "output_type": "stream",
     "text": [
      "b    20\n",
      "c    30\n",
      "dtype: int64\n",
      "a    10\n",
      "c    30\n",
      "dtype: int64\n",
      "a    10\n",
      "b    20\n",
      "c    30\n",
      "d    40\n",
      "dtype: int64\n"
     ]
    }
   ],
   "source": [
    "sr1 = pd.Series([10,20,30,40,50,60], index=['a','b','c','d','e','f'])\n",
    "print(sr1[[1,2]])\n",
    "print(sr1[['a','c']])\n",
    "print(sr1['a':'d'])"
   ]
  },
  {
   "cell_type": "code",
   "execution_count": 25,
   "metadata": {},
   "outputs": [
    {
     "data": {
      "text/html": [
       "<div>\n",
       "<style scoped>\n",
       "    .dataframe tbody tr th:only-of-type {\n",
       "        vertical-align: middle;\n",
       "    }\n",
       "\n",
       "    .dataframe tbody tr th {\n",
       "        vertical-align: top;\n",
       "    }\n",
       "\n",
       "    .dataframe thead th {\n",
       "        text-align: right;\n",
       "    }\n",
       "</style>\n",
       "<table border=\"1\" class=\"dataframe\">\n",
       "  <thead>\n",
       "    <tr style=\"text-align: right;\">\n",
       "      <th></th>\n",
       "      <th>과일</th>\n",
       "      <th>기격</th>\n",
       "      <th>수량</th>\n",
       "    </tr>\n",
       "  </thead>\n",
       "  <tbody>\n",
       "    <tr>\n",
       "      <th>01</th>\n",
       "      <td>apple</td>\n",
       "      <td>100</td>\n",
       "      <td>10</td>\n",
       "    </tr>\n",
       "    <tr>\n",
       "      <th>02</th>\n",
       "      <td>strawberry</td>\n",
       "      <td>200</td>\n",
       "      <td>20</td>\n",
       "    </tr>\n",
       "    <tr>\n",
       "      <th>03</th>\n",
       "      <td>peer</td>\n",
       "      <td>150</td>\n",
       "      <td>40</td>\n",
       "    </tr>\n",
       "    <tr>\n",
       "      <th>04</th>\n",
       "      <td>orange</td>\n",
       "      <td>50</td>\n",
       "      <td>50</td>\n",
       "    </tr>\n",
       "  </tbody>\n",
       "</table>\n",
       "</div>"
      ],
      "text/plain": [
       "            과일   기격  수량\n",
       "01       apple  100  10\n",
       "02  strawberry  200  20\n",
       "03        peer  150  40\n",
       "04      orange   50  50"
      ]
     },
     "execution_count": 25,
     "metadata": {},
     "output_type": "execute_result"
    }
   ],
   "source": [
    "df1 = pd.DataFrame([[10,20,30], [40,50,60]]) # 2차원 리스트로 데이터 프레임 생성\n",
    "df1\n",
    "dict1 = {'fruit' : ['apple', 'strawberry', 'peer', 'orange'],\n",
    "'price' : [100,200,150,50],\n",
    "'qty' : [10,20,40,50]}\n",
    "df2 = pd.DataFrame(dict1)\n",
    "df2 = pd.DataFrame(dict1, index = ['a', 'b','c','d']) # 행열 이름 정하기\n",
    "df2.rename(columns={'fruit': '과일', 'price': '기격', 'qty':'수량'}, inplace= True) # inplace True가 생략되면 새로운 객체를 생성해서 반환\n",
    "df2.rename(index = {'a':'01', 'b':'02', 'c':'03', 'd': '04'}, inplace=True)\n",
    "df2\n"
   ]
  },
  {
   "cell_type": "code",
   "execution_count": 33,
   "metadata": {},
   "outputs": [
    {
     "name": "stdout",
     "output_type": "stream",
     "text": [
      "    학번  중간  기말  리포트  퀴즈\n",
      "0  S01  90  95   20  20\n",
      "1  S02  82  83   18  18\n",
      "2  S03  80  78   18  18\n",
      "3  S04  78  75   10  10\n",
      "4  S05  93  91   12  12\n",
      "(10, 5)\n",
      "<class 'pandas.core.frame.DataFrame'>\n",
      "RangeIndex: 10 entries, 0 to 9\n",
      "Data columns (total 5 columns):\n",
      " #   Column  Non-Null Count  Dtype \n",
      "---  ------  --------------  ----- \n",
      " 0   학번      10 non-null     object\n",
      " 1   중간      10 non-null     int64 \n",
      " 2   기말      10 non-null     int64 \n",
      " 3   리포트     10 non-null     int64 \n",
      " 4   퀴즈      10 non-null     int64 \n",
      "dtypes: int64(4), object(1)\n",
      "memory usage: 528.0+ bytes\n",
      "None\n",
      "학번     10\n",
      "중간     10\n",
      "기말     10\n",
      "리포트    10\n",
      "퀴즈     10\n",
      "dtype: int64\n"
     ]
    }
   ],
   "source": [
    "df1 = pd.read_csv('data/df_sample.csv')\n",
    "print(df1.head(5)) # 앞부분 5개\n",
    "print(df1.shape) #데이터프레임 요약 정보\n",
    "print(df1.info()) # 데이터프레임에 대한 기본 정보\n",
    "print(df1.count()) # 열별 데이터 개수"
   ]
  },
  {
   "cell_type": "code",
   "execution_count": 43,
   "metadata": {},
   "outputs": [
    {
     "name": "stdout",
     "output_type": "stream",
     "text": [
      "77.6\n",
      "중간    77.6\n",
      "기말    78.5\n",
      "dtype: float64\n",
      "중간     79.0\n",
      "기말     78.0\n",
      "리포트    15.0\n",
      "퀴즈     15.0\n",
      "dtype: float64\n",
      "18    3\n",
      "14    2\n",
      "10    2\n",
      "12    1\n",
      "20    1\n",
      "16    1\n",
      "Name: 퀴즈, dtype: int64\n",
      "          중간        기말\n",
      "중간  1.000000  0.707196\n",
      "기말  0.707196  1.000000\n"
     ]
    }
   ],
   "source": [
    "df1.describe(include='all') # 기술통계 정보 한번에 보여주기\n",
    "print(df1['중간'].mean())\n",
    "print(df1[['중간', '기말']].mean()) # list 대괄호 2개 주의\n",
    "print(df1.median()) #중간값 그 외 var, std 등등\n",
    "print(df1['퀴즈'].value_counts()) # 열에서 고유값 개수 확인\n",
    "print(df1[['중간', '기말']].corr()) # 상관계수 확인"
   ]
  },
  {
   "cell_type": "code",
   "execution_count": 2,
   "metadata": {},
   "outputs": [
    {
     "data": {
      "text/html": [
       "<div>\n",
       "<style scoped>\n",
       "    .dataframe tbody tr th:only-of-type {\n",
       "        vertical-align: middle;\n",
       "    }\n",
       "\n",
       "    .dataframe tbody tr th {\n",
       "        vertical-align: top;\n",
       "    }\n",
       "\n",
       "    .dataframe thead th {\n",
       "        text-align: right;\n",
       "    }\n",
       "</style>\n",
       "<table border=\"1\" class=\"dataframe\">\n",
       "  <thead>\n",
       "    <tr style=\"text-align: right;\">\n",
       "      <th></th>\n",
       "      <th>중간</th>\n",
       "      <th>기말</th>\n",
       "      <th>리포트</th>\n",
       "      <th>퀴즈</th>\n",
       "    </tr>\n",
       "    <tr>\n",
       "      <th>학번</th>\n",
       "      <th></th>\n",
       "      <th></th>\n",
       "      <th></th>\n",
       "      <th></th>\n",
       "    </tr>\n",
       "  </thead>\n",
       "  <tbody>\n",
       "    <tr>\n",
       "      <th>S01</th>\n",
       "      <td>90</td>\n",
       "      <td>95</td>\n",
       "      <td>20</td>\n",
       "      <td>20</td>\n",
       "    </tr>\n",
       "    <tr>\n",
       "      <th>S02</th>\n",
       "      <td>82</td>\n",
       "      <td>83</td>\n",
       "      <td>18</td>\n",
       "      <td>18</td>\n",
       "    </tr>\n",
       "    <tr>\n",
       "      <th>S03</th>\n",
       "      <td>80</td>\n",
       "      <td>78</td>\n",
       "      <td>18</td>\n",
       "      <td>18</td>\n",
       "    </tr>\n",
       "    <tr>\n",
       "      <th>S04</th>\n",
       "      <td>78</td>\n",
       "      <td>75</td>\n",
       "      <td>10</td>\n",
       "      <td>10</td>\n",
       "    </tr>\n",
       "    <tr>\n",
       "      <th>S05</th>\n",
       "      <td>93</td>\n",
       "      <td>91</td>\n",
       "      <td>12</td>\n",
       "      <td>12</td>\n",
       "    </tr>\n",
       "    <tr>\n",
       "      <th>S06</th>\n",
       "      <td>71</td>\n",
       "      <td>75</td>\n",
       "      <td>16</td>\n",
       "      <td>16</td>\n",
       "    </tr>\n",
       "    <tr>\n",
       "      <th>S07</th>\n",
       "      <td>60</td>\n",
       "      <td>80</td>\n",
       "      <td>18</td>\n",
       "      <td>18</td>\n",
       "    </tr>\n",
       "    <tr>\n",
       "      <th>S08</th>\n",
       "      <td>72</td>\n",
       "      <td>65</td>\n",
       "      <td>14</td>\n",
       "      <td>14</td>\n",
       "    </tr>\n",
       "    <tr>\n",
       "      <th>S09</th>\n",
       "      <td>65</td>\n",
       "      <td>65</td>\n",
       "      <td>14</td>\n",
       "      <td>14</td>\n",
       "    </tr>\n",
       "    <tr>\n",
       "      <th>S10</th>\n",
       "      <td>85</td>\n",
       "      <td>78</td>\n",
       "      <td>10</td>\n",
       "      <td>10</td>\n",
       "    </tr>\n",
       "  </tbody>\n",
       "</table>\n",
       "</div>"
      ],
      "text/plain": [
       "     중간  기말  리포트  퀴즈\n",
       "학번                  \n",
       "S01  90  95   20  20\n",
       "S02  82  83   18  18\n",
       "S03  80  78   18  18\n",
       "S04  78  75   10  10\n",
       "S05  93  91   12  12\n",
       "S06  71  75   16  16\n",
       "S07  60  80   18  18\n",
       "S08  72  65   14  14\n",
       "S09  65  65   14  14\n",
       "S10  85  78   10  10"
      ]
     },
     "execution_count": 2,
     "metadata": {},
     "output_type": "execute_result"
    }
   ],
   "source": [
    "# 데이터프레임 조작\n",
    "import pandas as pd\n",
    "df1 = pd.read_csv('data/df_sample.csv') \n",
    "df1.set_index('학번') # 특정 열을 행 인덱스로 설정, 전체 행을 대표하는 열을 인덱스로 지정하려는 경우 \n",
    "# 주의) 지정한 열은 인덱스 역할을 하기 때문에, 열 이름으로 접근할 수 없음."
   ]
  }
 ],
 "metadata": {
  "interpreter": {
   "hash": "ac18eb6d094d88f8002e5c46b22ec96d1a5d54acd61fc852273e7e370233e1df"
  },
  "kernelspec": {
   "display_name": "Python 3.8.5 ('base')",
   "language": "python",
   "name": "python3"
  },
  "language_info": {
   "codemirror_mode": {
    "name": "ipython",
    "version": 3
   },
   "file_extension": ".py",
   "mimetype": "text/x-python",
   "name": "python",
   "nbconvert_exporter": "python",
   "pygments_lexer": "ipython3",
   "version": "3.8.5"
  },
  "orig_nbformat": 4
 },
 "nbformat": 4,
 "nbformat_minor": 2
}
